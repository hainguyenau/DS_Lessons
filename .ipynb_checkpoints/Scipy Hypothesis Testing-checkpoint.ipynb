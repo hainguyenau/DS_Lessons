{
 "cells": [
  {
   "cell_type": "code",
   "execution_count": 1,
   "metadata": {
    "collapsed": true
   },
   "outputs": [],
   "source": [
    "import numpy as np\n",
    "import scipy.stats as scs\n",
    "import matplotlib.pyplot as plt\n",
    "%matplotlib inline"
   ]
  },
  {
   "cell_type": "markdown",
   "metadata": {},
   "source": [
    "**Note:** \n",
    "- The tests give p-value (be careful of scientific notation), we can compare it with our alpha of choice to decide whether to accept or reject the null hypothesis.\n",
    "- This test underestimates differences in variance, only cares about the mean value.\n",
    "- For 3 or more samples, use ANOVA"
   ]
  },
  {
   "cell_type": "markdown",
   "metadata": {},
   "source": [
    "# 1-Sample Mean\n",
    "Testing if the mean of a sample is not different from a hypothetical value"
   ]
  },
  {
   "cell_type": "code",
   "execution_count": 13,
   "metadata": {
    "collapsed": false
   },
   "outputs": [
    {
     "name": "stdout",
     "output_type": "stream",
     "text": [
      "0.511280394017\n"
     ]
    },
    {
     "data": {
      "text/plain": [
       "Ttest_1sampResult(statistic=0.38397564200844991, pvalue=0.70181995123630081)"
      ]
     },
     "execution_count": 13,
     "metadata": {},
     "output_type": "execute_result"
    }
   ],
   "source": [
    "# Generate a sample\n",
    "x = np.random.random_sample(size=100)\n",
    "\n",
    "# Test if the mean of the sample is 0.5\n",
    "print x.mean()\n",
    "scs.ttest_1samp(x, 0.5)"
   ]
  },
  {
   "cell_type": "markdown",
   "metadata": {},
   "source": [
    "# 1-Sample Proportion\n",
    "This applies when we have a Bernoulli distribution"
   ]
  },
  {
   "cell_type": "code",
   "execution_count": 48,
   "metadata": {
    "collapsed": false
   },
   "outputs": [
    {
     "name": "stdout",
     "output_type": "stream",
     "text": [
      "Ttest_1sampResult(statistic=0.21855858972563169, pvalue=0.82741023156164006)\n",
      "p-value large, accept null\n",
      "Ttest_1sampResult(statistic=2.466290592309488, pvalue=0.015210081667458115)\n",
      "p-value small reject null\n"
     ]
    }
   ],
   "source": [
    "# Generate a Bernoulli distribution\n",
    "x = [item for sublist in [[0]*80 + [1]*28] for item in sublist]\n",
    "\n",
    "# Testing if the proportion is 0.25\n",
    "print str(scs.ttest_1samp(x, 0.25))\n",
    "print 'p-value large, accept null'\n",
    "\n",
    "\n",
    "# Another test\n",
    "x = [item for sublist in [[0]*70 + [1]*40] for item in sublist]\n",
    "print str(scs.ttest_1samp(x, 0.25))\n",
    "print 'p-value small reject null'"
   ]
  },
  {
   "cell_type": "markdown",
   "metadata": {},
   "source": [
    "# 2-Sample Means\n",
    "Compare to see if the means of 2 samples are not different, i.e., whether 2 samples are from the same population"
   ]
  },
  {
   "cell_type": "code",
   "execution_count": 49,
   "metadata": {
    "collapsed": false,
    "scrolled": true
   },
   "outputs": [
    {
     "name": "stdout",
     "output_type": "stream",
     "text": [
      "0.512352844858 0.48942419107\n",
      "Ttest_indResult(statistic=1.2553096703645392, pvalue=0.20966020908622976)\n",
      "p-value large, accept null\n",
      "---------------\n",
      "1.09867951049 0.5169690375\n",
      "Ttest_indResult(statistic=9.1442879064494669, pvalue=7.3318414569629565e-17)\n",
      "p-value small, reject null\n"
     ]
    }
   ],
   "source": [
    "# Generate 2 samples with similar means\n",
    "x1 = np.random.random_sample(size=500)\n",
    "x2 = np.random.random_sample(size=500)\n",
    "print x1.mean(), x2.mean()\n",
    "print scs.ttest_ind(x1, x2)\n",
    "print 'p-value large, accept null'\n",
    "print '---------------'\n",
    "\n",
    "# Generate 2 samples with different means\n",
    "y1 = np.random.random_sample(size=100)*2\n",
    "y2 = np.random.random_sample(size=100)\n",
    "print y1.mean(), y2.mean()\n",
    "print scs.ttest_ind(y1, y2)\n",
    "print 'p-value small, reject null'"
   ]
  },
  {
   "cell_type": "markdown",
   "metadata": {},
   "source": [
    "# 2-Sample Proportions"
   ]
  },
  {
   "cell_type": "code",
   "execution_count": 56,
   "metadata": {
    "collapsed": false
   },
   "outputs": [
    {
     "name": "stdout",
     "output_type": "stream",
     "text": [
      "Ttest_indResult(statistic=-0.78907636476703791, pvalue=0.43101120573602236)\n",
      "p-value large, accept null\n",
      "---------------------\n",
      "Ttest_indResult(statistic=-2.0181082671329791, pvalue=0.04486433017706145)\n",
      "p-value large, accept null\n"
     ]
    }
   ],
   "source": [
    "# Generate Bernoulli distributions with similar proportions\n",
    "z1 = [item for sublist in [[0]*30 + [1]*70] for item in sublist]\n",
    "z2 = [item for sublist in [[0]*25 + [1]*75] for item in sublist]\n",
    "print scs.ttest_ind(z1, z2)\n",
    "print 'p-value large, accept null'\n",
    "print '---------------------'\n",
    "\n",
    "# Generate Bernoulli distributions with different proportions\n",
    "z1 = [item for sublist in [[0]*30 + [1]*70] for item in sublist]\n",
    "z2 = [item for sublist in [[0]*20 + [1]*90] for item in sublist]\n",
    "print scs.ttest_ind(z1, z2)\n",
    "print 'p-value large, accept null'"
   ]
  },
  {
   "cell_type": "markdown",
   "metadata": {},
   "source": [
    "# ANOVA f-test"
   ]
  },
  {
   "cell_type": "code",
   "execution_count": 60,
   "metadata": {
    "collapsed": false
   },
   "outputs": [
    {
     "name": "stdout",
     "output_type": "stream",
     "text": [
      "0.469202139503 0.498124907517 0.505961771149\n",
      "F_onewayResult(statistic=2.2198395801574713, pvalue=0.10898398160447441)\n",
      "p-value large, accept null\n",
      "---------------\n",
      "0.488278779843 0.634099105606 0.506311652019\n",
      "F_onewayResult(statistic=31.290637441537974, pvalue=4.8643009112395043e-14)\n",
      "p-value large, accept null\n"
     ]
    }
   ],
   "source": [
    "# Generate 3 samples with similar means\n",
    "a1 = np.random.random_sample(size=500)\n",
    "a2 = np.random.random_sample(size=500)\n",
    "a3 = np.random.random_sample(size=500)\n",
    "print a1.mean(), a2.mean(), a3.mean()\n",
    "print scs.f_oneway(a1, a2, a3)\n",
    "print 'p-value large, accept null'\n",
    "print '---------------'\n",
    "\n",
    "# Generate 3 samples with different means\n",
    "b1 = np.random.random_sample(size=500)\n",
    "b2 = np.random.random_sample(size=500)*1.3\n",
    "b3 = np.random.random_sample(size=500)\n",
    "print b1.mean(), b2.mean(), b3.mean()\n",
    "print scs.f_oneway(b1, b2, b3)\n",
    "print 'p-value large, accept null'"
   ]
  },
  {
   "cell_type": "code",
   "execution_count": null,
   "metadata": {
    "collapsed": true
   },
   "outputs": [],
   "source": []
  }
 ],
 "metadata": {
  "kernelspec": {
   "display_name": "Python 2",
   "language": "python",
   "name": "python2"
  },
  "language_info": {
   "codemirror_mode": {
    "name": "ipython",
    "version": 2
   },
   "file_extension": ".py",
   "mimetype": "text/x-python",
   "name": "python",
   "nbconvert_exporter": "python",
   "pygments_lexer": "ipython2",
   "version": "2.7.13"
  }
 },
 "nbformat": 4,
 "nbformat_minor": 2
}
