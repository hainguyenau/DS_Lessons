{
 "cells": [
  {
   "cell_type": "code",
   "execution_count": 7,
   "metadata": {
    "collapsed": true
   },
   "outputs": [],
   "source": [
    "import numpy as np\n",
    "import scipy.stats as scs\n",
    "import matplotlib.pyplot as plt\n",
    "%matplotlib inline"
   ]
  },
  {
   "cell_type": "markdown",
   "metadata": {},
   "source": [
    "**Note:** \n",
    "- The tests give p-value (be careful of scientific notation), we can compare it with our alpha of choice to decide whether to accept or reject the null hypothesis.\n",
    "- This test underestimates differences in variance, only cares about the mean value.\n",
    "- For 3 or more samples, use ANOVA"
   ]
  },
  {
   "cell_type": "markdown",
   "metadata": {},
   "source": [
    "# 1-Sample Mean\n",
    "Testing if the mean of a sample is not different from a hypothetical value"
   ]
  },
  {
   "cell_type": "code",
   "execution_count": 8,
   "metadata": {
    "collapsed": false
   },
   "outputs": [
    {
     "name": "stdout",
     "output_type": "stream",
     "text": [
      "0.454355420785\n"
     ]
    },
    {
     "data": {
      "text/plain": [
       "Ttest_1sampResult(statistic=-1.5396812684705661, pvalue=0.12682835325173772)"
      ]
     },
     "execution_count": 8,
     "metadata": {},
     "output_type": "execute_result"
    }
   ],
   "source": [
    "# Generate a sample\n",
    "x = np.random.random_sample(size=100)\n",
    "\n",
    "# Test if the mean of the sample is 0.5\n",
    "print x.mean()\n",
    "scs.ttest_1samp(x, 0.5)"
   ]
  },
  {
   "cell_type": "code",
   "execution_count": 9,
   "metadata": {
    "collapsed": false
   },
   "outputs": [
    {
     "data": {
      "text/plain": [
       "(array([ 13.,  13.,  13.,  10.,   5.,  13.,   6.,  11.,   7.,   9.]),\n",
       " array([ 0.00841597,  0.1072002 ,  0.20598444,  0.30476867,  0.4035529 ,\n",
       "         0.50233714,  0.60112137,  0.6999056 ,  0.79868984,  0.89747407,\n",
       "         0.99625831]),\n",
       " <a list of 10 Patch objects>)"
      ]
     },
     "execution_count": 9,
     "metadata": {},
     "output_type": "execute_result"
    },
    {
     "data": {
      "image/png": "[encoded data removed]",
      "text/plain": [
       "<matplotlib.figure.Figure at 0x729e5f0>"
      ]
     },
     "metadata": {},
     "output_type": "display_data"
    }
   ],
   "source": [
    "plt.hist(x)"
   ]
  },
  {
   "cell_type": "markdown",
   "metadata": {},
   "source": [
    "# 1-Sample Proportion\n",
    "This applies when we have a Bernoulli distribution"
   ]
  },
  {
   "cell_type": "code",
   "execution_count": 10,
   "metadata": {
    "collapsed": false
   },
   "outputs": [
    {
     "name": "stdout",
     "output_type": "stream",
     "text": [
      "Ttest_1sampResult(statistic=0.21855858972563169, pvalue=0.82741023156164006)\n",
      "p-value large, accept null\n"
     ]
    },
    {
     "data": {
      "text/plain": [
       "(array([ 80.,   0.,   0.,   0.,   0.,   0.,   0.,   0.,   0.,  28.]),\n",
       " array([ 0. ,  0.1,  0.2,  0.3,  0.4,  0.5,  0.6,  0.7,  0.8,  0.9,  1. ]),\n",
       " <a list of 10 Patch objects>)"
      ]
     },
     "execution_count": 10,
     "metadata": {},
     "output_type": "execute_result"
    },
    {
     "data": {
      "image/png": "[encoded data removed]",
      "text/plain": [
       "<matplotlib.figure.Figure at 0x7278230>"
      ]
     },
     "metadata": {},
     "output_type": "display_data"
    }
   ],
   "source": [
    "# Generate a Bernoulli distribution\n",
    "x = [item for sublist in [[0]*80 + [1]*28] for item in sublist]\n",
    "\n",
    "# Testing if the proportion is 0.25\n",
    "print str(scs.ttest_1samp(x, 0.25))\n",
    "print 'p-value large, accept null'\n",
    "\n",
    "plt.hist(x)"
   ]
  },
  {
   "cell_type": "code",
   "execution_count": 12,
   "metadata": {
    "collapsed": false
   },
   "outputs": [
    {
     "name": "stdout",
     "output_type": "stream",
     "text": [
      "Ttest_1sampResult(statistic=2.466290592309488, pvalue=0.015210081667458115)\n",
      "p-value small reject null\n"
     ]
    },
    {
     "data": {
      "text/plain": [
       "(array([ 70.,   0.,   0.,   0.,   0.,   0.,   0.,   0.,   0.,  40.]),\n",
       " array([ 0. ,  0.1,  0.2,  0.3,  0.4,  0.5,  0.6,  0.7,  0.8,  0.9,  1. ]),\n",
       " <a list of 10 Patch objects>)"
      ]
     },
     "execution_count": 12,
     "metadata": {},
     "output_type": "execute_result"
    },
    {
     "data": {
      "image/png": "[encoded data removed]",
      "text/plain": [
       "<matplotlib.figure.Figure at 0x743a490>"
      ]
     },
     "metadata": {},
     "output_type": "display_data"
    }
   ],
   "source": [
    "# Another test\n",
    "x = [item for sublist in [[0]*70 + [1]*40] for item in sublist]\n",
    "print str(scs.ttest_1samp(x, 0.25))\n",
    "print 'p-value small reject null'\n",
    "\n",
    "plt.hist(x)"
   ]
  },
  {
   "cell_type": "markdown",
   "metadata": {},
   "source": [
    "# 2-Sample Means\n",
    "Compare to see if the means of 2 samples are not different, i.e., whether 2 samples are from the same population"
   ]
  },
  {
   "cell_type": "code",
   "execution_count": 29,
   "metadata": {
    "collapsed": false,
    "scrolled": false
   },
   "outputs": [
    {
     "name": "stdout",
     "output_type": "stream",
     "text": [
      "0.509439421199 0.499877805548\n",
      "Ttest_indResult(statistic=0.52354282054407819, pvalue=0.60071278993054089)\n",
      "p-value large, accept null\n"
     ]
    },
    {
     "data": {
      "text/plain": [
       "(array([ 47.,  51.,  59.,  41.,  59.,  44.,  51.,  45.,  50.,  53.]),\n",
       " array([ 0.00301927,  0.10269615,  0.20237302,  0.30204989,  0.40172676,\n",
       "         0.50140363,  0.6010805 ,  0.70075737,  0.80043424,  0.90011111,\n",
       "         0.99978799]),\n",
       " <a list of 10 Patch objects>)"
      ]
     },
     "execution_count": 29,
     "metadata": {},
     "output_type": "execute_result"
    },
    {
     "data": {
      "image/png": "[encoded data removed]",
      "text/plain": [
       "<matplotlib.figure.Figure at 0x92dd210>"
      ]
     },
     "metadata": {},
     "output_type": "display_data"
    }
   ],
   "source": [
    "# Generate 2 samples with similar means\n",
    "x1 = np.random.random_sample(size=500)\n",
    "x2 = np.random.random_sample(size=500)\n",
    "print x1.mean(), x2.mean()\n",
    "print scs.ttest_ind(x1, x2)\n",
    "print 'p-value large, accept null'\n",
    "\n",
    "plt.hist(x1, rwidth=0.8)\n",
    "plt.hist(x2, rwidth=0.4)"
   ]
  },
  {
   "cell_type": "code",
   "execution_count": 14,
   "metadata": {
    "collapsed": false
   },
   "outputs": [
    {
     "name": "stdout",
     "output_type": "stream",
     "text": [
      "0.978220709882 0.473965468239\n",
      "Ttest_indResult(statistic=7.6229714105918491, pvalue=1.008592112634964e-12)\n",
      "p-value small, reject null\n"
     ]
    }
   ],
   "source": [
    "# Generate 2 samples with different means\n",
    "y1 = np.random.random_sample(size=100)*2\n",
    "y2 = np.random.random_sample(size=100)\n",
    "print y1.mean(), y2.mean()\n",
    "print scs.ttest_ind(y1, y2)\n",
    "print 'p-value small, reject null'"
   ]
  },
  {
   "cell_type": "markdown",
   "metadata": {},
   "source": [
    "# 2-Sample Proportions"
   ]
  },
  {
   "cell_type": "code",
   "execution_count": 31,
   "metadata": {
    "collapsed": false
   },
   "outputs": [
    {
     "name": "stdout",
     "output_type": "stream",
     "text": [
      "Ttest_indResult(statistic=-0.78907636476703791, pvalue=0.43101120573602236)\n",
      "p-value large, accept null\n"
     ]
    },
    {
     "data": {
      "text/plain": [
       "(array([ 25.,   0.,   0.,   0.,   0.,   0.,   0.,   0.,   0.,  75.]),\n",
       " array([ 0. ,  0.1,  0.2,  0.3,  0.4,  0.5,  0.6,  0.7,  0.8,  0.9,  1. ]),\n",
       " <a list of 10 Patch objects>)"
      ]
     },
     "execution_count": 31,
     "metadata": {},
     "output_type": "execute_result"
    },
    {
     "data": {
      "image/png": "[encoded data removed]",
      "text/plain": [
       "<matplotlib.figure.Figure at 0x95cf0f0>"
      ]
     },
     "metadata": {},
     "output_type": "display_data"
    }
   ],
   "source": [
    "# Generate Bernoulli distributions with similar proportions\n",
    "z1 = [item for sublist in [[0]*30 + [1]*70] for item in sublist]\n",
    "z2 = [item for sublist in [[0]*25 + [1]*75] for item in sublist]\n",
    "print scs.ttest_ind(z1, z2)\n",
    "print 'p-value large, accept null'\n",
    "\n",
    "plt.hist(z1)\n",
    "plt.hist(z2, rwidth=0.5)"
   ]
  },
  {
   "cell_type": "code",
   "execution_count": 32,
   "metadata": {
    "collapsed": false
   },
   "outputs": [
    {
     "name": "stdout",
     "output_type": "stream",
     "text": [
      "Ttest_indResult(statistic=-2.0181082671329791, pvalue=0.04486433017706145)\n",
      "p-value large, accept null\n"
     ]
    },
    {
     "data": {
      "text/plain": [
       "(array([ 20.,   0.,   0.,   0.,   0.,   0.,   0.,   0.,   0.,  90.]),\n",
       " array([ 0. ,  0.1,  0.2,  0.3,  0.4,  0.5,  0.6,  0.7,  0.8,  0.9,  1. ]),\n",
       " <a list of 10 Patch objects>)"
      ]
     },
     "execution_count": 32,
     "metadata": {},
     "output_type": "execute_result"
    },
    {
     "data": {
      "image/png": "[encoded data removed]",
      "text/plain": [
       "<matplotlib.figure.Figure at 0x977a2d0>"
      ]
     },
     "metadata": {},
     "output_type": "display_data"
    }
   ],
   "source": [
    "# Generate Bernoulli distributions with different proportions\n",
    "z1 = [item for sublist in [[0]*30 + [1]*70] for item in sublist]\n",
    "z2 = [item for sublist in [[0]*20 + [1]*90] for item in sublist]\n",
    "print scs.ttest_ind(z1, z2)\n",
    "print 'p-value large, accept null'\n",
    "\n",
    "plt.hist(z1)\n",
    "plt.hist(z2, rwidth=0.5)"
   ]
  },
  {
   "cell_type": "markdown",
   "metadata": {},
   "source": [
    "# ANOVA f-test"
   ]
  },
  {
   "cell_type": "code",
   "execution_count": 33,
   "metadata": {
    "collapsed": false
   },
   "outputs": [
    {
     "name": "stdout",
     "output_type": "stream",
     "text": [
      "0.513812016534 0.47835673052 0.505090063959\n",
      "F_onewayResult(statistic=2.0982113356173144, pvalue=0.12303628779273114)\n",
      "p-value large, accept null\n"
     ]
    },
    {
     "data": {
      "text/plain": [
       "(array([ 49.,  42.,  52.,  46.,  62.,  51.,  48.,  55.,  38.,  57.]),\n",
       " array([ 0.00355833,  0.1027099 ,  0.20186147,  0.30101304,  0.40016461,\n",
       "         0.49931619,  0.59846776,  0.69761933,  0.7967709 ,  0.89592247,\n",
       "         0.99507405]),\n",
       " <a list of 10 Patch objects>)"
      ]
     },
     "execution_count": 33,
     "metadata": {},
     "output_type": "execute_result"
    },
    {
     "data": {
      "image/png": "[encoded data removed]",
      "text/plain": [
       "<matplotlib.figure.Figure at 0x995e670>"
      ]
     },
     "metadata": {},
     "output_type": "display_data"
    }
   ],
   "source": [
    "# Generate 3 samples with similar means\n",
    "a1 = np.random.random_sample(size=500)\n",
    "a2 = np.random.random_sample(size=500)\n",
    "a3 = np.random.random_sample(size=500)\n",
    "print a1.mean(), a2.mean(), a3.mean()\n",
    "print scs.f_oneway(a1, a2, a3)\n",
    "print 'p-value large, accept null'\n",
    "\n",
    "plt.hist(a1)\n",
    "plt.hist(a2, rwidth=0.7)\n",
    "plt.hist(a3, rwidth=0.4)"
   ]
  },
  {
   "cell_type": "code",
   "execution_count": 34,
   "metadata": {
    "collapsed": false
   },
   "outputs": [
    {
     "name": "stdout",
     "output_type": "stream",
     "text": [
      "0.494744563791 0.651311597865 0.498256652594\n",
      "F_onewayResult(statistic=38.4818211058016, pvalue=5.046467596806931e-17)\n",
      "p-value large, accept null\n"
     ]
    },
    {
     "data": {
      "text/plain": [
       "(array([ 55.,  42.,  50.,  56.,  54.,  52.,  61.,  30.,  45.,  55.]),\n",
       " array([ 0.00578283,  0.10516232,  0.2045418 ,  0.30392129,  0.40330077,\n",
       "         0.50268026,  0.60205974,  0.70143923,  0.80081871,  0.9001982 ,\n",
       "         0.99957768]),\n",
       " <a list of 10 Patch objects>)"
      ]
     },
     "execution_count": 34,
     "metadata": {},
     "output_type": "execute_result"
    },
    {
     "data": {
      "image/png": "[encoded data removed]",
      "text/plain": [
       "<matplotlib.figure.Figure at 0x9b1cab0>"
      ]
     },
     "metadata": {},
     "output_type": "display_data"
    }
   ],
   "source": [
    "# Generate 3 samples with different means\n",
    "b1 = np.random.random_sample(size=500)\n",
    "b2 = np.random.random_sample(size=500)*1.3\n",
    "b3 = np.random.random_sample(size=500)\n",
    "print b1.mean(), b2.mean(), b3.mean()\n",
    "print scs.f_oneway(b1, b2, b3)\n",
    "print 'p-value large, accept null'\n",
    "\n",
    "plt.hist(b1)\n",
    "plt.hist(b2, rwidth=0.7)\n",
    "plt.hist(b3, rwidth=0.4)"
   ]
  },
  {
   "cell_type": "code",
   "execution_count": null,
   "metadata": {
    "collapsed": true
   },
   "outputs": [],
   "source": []
  }
 ],
 "metadata": {
  "kernelspec": {
   "display_name": "Python 2",
   "language": "python",
   "name": "python2"
  },
  "language_info": {
   "codemirror_mode": {
    "name": "ipython",
    "version": 2
   },
   "file_extension": ".py",
   "mimetype": "text/x-python",
   "name": "python",
   "nbconvert_exporter": "python",
   "pygments_lexer": "ipython2",
   "version": "2.7.13"
  }
 },
 "nbformat": 4,
 "nbformat_minor": 2
}
