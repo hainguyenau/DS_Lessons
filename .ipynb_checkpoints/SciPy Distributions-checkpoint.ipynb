{
 "cells": [
  {
   "cell_type": "code",
   "execution_count": 23,
   "metadata": {
    "collapsed": true
   },
   "outputs": [],
   "source": [
    "import numpy as np\n",
    "import pandas as pd\n",
    "import matplotlib.pyplot as plt\n",
    "import scipy.stats as scs\n",
    "%matplotlib inline"
   ]
  },
  {
   "cell_type": "markdown",
   "metadata": {
    "collapsed": true
   },
   "source": [
    "https://docs.scipy.org/doc/scipy/reference/tutorial/"
   ]
  },
  {
   "cell_type": "markdown",
   "metadata": {},
   "source": [
    "# NumPy Polynomials"
   ]
  },
  {
   "cell_type": "code",
   "execution_count": 24,
   "metadata": {
    "collapsed": false
   },
   "outputs": [
    {
     "name": "stdout",
     "output_type": "stream",
     "text": [
      "   2\n",
      "3 x + 4 x + 5\n"
     ]
    }
   ],
   "source": [
    "# Create polynomial\n",
    "p = np.poly1d([3,4,5])\n",
    "print p"
   ]
  },
  {
   "cell_type": "code",
   "execution_count": 25,
   "metadata": {
    "collapsed": false,
    "scrolled": true
   },
   "outputs": [
    {
     "name": "stdout",
     "output_type": "stream",
     "text": [
      "   4      3      2\n",
      "9 x + 24 x + 46 x + 40 x + 25\n",
      "   2\n",
      "6 x + 8 x + 10\n"
     ]
    }
   ],
   "source": [
    "# Polynomial operations\n",
    "print p*p\n",
    "print 2*p"
   ]
  },
  {
   "cell_type": "markdown",
   "metadata": {},
   "source": [
    "### Integral"
   ]
  },
  {
   "cell_type": "code",
   "execution_count": 26,
   "metadata": {
    "collapsed": false
   },
   "outputs": [
    {
     "name": "stdout",
     "output_type": "stream",
     "text": [
      "   3     2\n",
      "1 x + 2 x + 5 x + 6\n"
     ]
    }
   ],
   "source": [
    "# infinite integral, choose constant C = k, by order m)\n",
    "print p.integ(m=1, k=6)"
   ]
  },
  {
   "cell_type": "markdown",
   "metadata": {},
   "source": [
    "### Derivative"
   ]
  },
  {
   "cell_type": "code",
   "execution_count": 27,
   "metadata": {
    "collapsed": false
   },
   "outputs": [
    {
     "name": "stdout",
     "output_type": "stream",
     "text": [
      " \n",
      "6 x + 4\n"
     ]
    }
   ],
   "source": [
    "print p.deriv()"
   ]
  },
  {
   "cell_type": "markdown",
   "metadata": {},
   "source": [
    "### Vectorized Functions"
   ]
  },
  {
   "cell_type": "code",
   "execution_count": 28,
   "metadata": {
    "collapsed": true
   },
   "outputs": [],
   "source": [
    "def addsubtract(a,b):\n",
    "    if a > b:\n",
    "        return a - b\n",
    "    else:\n",
    "        return a + b"
   ]
  },
  {
   "cell_type": "code",
   "execution_count": 29,
   "metadata": {
    "collapsed": false
   },
   "outputs": [
    {
     "data": {
      "text/plain": [
       "array([1, 6, 1, 2])"
      ]
     },
     "execution_count": 29,
     "metadata": {},
     "output_type": "execute_result"
    }
   ],
   "source": [
    "vec_addsubtract = np.vectorize(addsubtract)\n",
    "vec_addsubtract([0,3,6,9],[1,3,5,7])"
   ]
  },
  {
   "cell_type": "markdown",
   "metadata": {},
   "source": [
    "Note that vectorized functions use pair-wise operations"
   ]
  },
  {
   "cell_type": "markdown",
   "metadata": {
    "collapsed": true
   },
   "source": [
    "# Normal Distributions\n",
    "Normal Distributions takes 2 parameters:mean and standard deviation. Random variable: k"
   ]
  },
  {
   "cell_type": "markdown",
   "metadata": {},
   "source": [
    "### Random Variables"
   ]
  },
  {
   "cell_type": "code",
   "execution_count": 30,
   "metadata": {
    "collapsed": false
   },
   "outputs": [
    {
     "name": "stdout",
     "output_type": "stream",
     "text": [
      "lower-bound: -inf, upper-bound: inf\n"
     ]
    }
   ],
   "source": [
    "norm_dist = scs.norm\n",
    "print 'lower-bound: %s, upper-bound: %s' % (norm_dist.a, norm_dist.b)"
   ]
  },
  {
   "cell_type": "markdown",
   "metadata": {},
   "source": [
    "### Common Methods"
   ]
  },
  {
   "cell_type": "code",
   "execution_count": 31,
   "metadata": {
    "collapsed": true
   },
   "outputs": [],
   "source": [
    "norm_dist = scs.norm"
   ]
  },
  {
   "cell_type": "markdown",
   "metadata": {},
   "source": [
    "- rvs: Random Variates\n",
    "- pdf: Probability Density Function\n",
    "- cdf: Cumulative Distribution Function\n",
    "- sf: Survival Function (1-cdf) (?)\n",
    "- ppf: Percent Point (inverse cdf)\n",
    "- isf: Inverse Survival Function ()\n",
    "- stats: retun mean, variance, skew, kurtosis (of standard/theoretical distribution, not sampling data)\n",
    "- moment: non-central moments of the distribution"
   ]
  },
  {
   "cell_type": "code",
   "execution_count": 32,
   "metadata": {
    "collapsed": false
   },
   "outputs": [
    {
     "name": "stdout",
     "output_type": "stream",
     "text": [
      "0.5\n",
      "1.0\n"
     ]
    }
   ],
   "source": [
    "# CDF value at 0: half the bell curve; at infinity: full bell curve\n",
    "print norm_dist.cdf(0)\n",
    "print norm_dist.cdf(99999999)"
   ]
  },
  {
   "cell_type": "code",
   "execution_count": 33,
   "metadata": {
    "collapsed": false
   },
   "outputs": [
    {
     "name": "stdout",
     "output_type": "stream",
     "text": [
      "[ 0.15865525  0.5         0.84134475]\n"
     ]
    }
   ],
   "source": [
    "# To computer cdf at several points, we ca pass a list of a np array\n",
    "print norm_dist.cdf(np.array([-1, 0, 1]))"
   ]
  },
  {
   "cell_type": "markdown",
   "metadata": {},
   "source": [
    "Note that the basic methods such as pdf, cdf, etc. are vectorized functions"
   ]
  },
  {
   "cell_type": "code",
   "execution_count": 34,
   "metadata": {
    "collapsed": false
   },
   "outputs": [
    {
     "name": "stdout",
     "output_type": "stream",
     "text": [
      "0.0 1.0 1.0\n"
     ]
    }
   ],
   "source": [
    "# mean, standard deviation, variance\n",
    "print norm_dist.mean(), norm_dist.std(), norm_dist.var()"
   ]
  },
  {
   "cell_type": "code",
   "execution_count": 35,
   "metadata": {
    "collapsed": false
   },
   "outputs": [
    {
     "name": "stdout",
     "output_type": "stream",
     "text": [
      "(array(0.0), array(1.0))\n"
     ]
    }
   ],
   "source": [
    "# View the moments (mean and variance in this case) of the distribution\n",
    "print norm_dist.stats(moments = 'mv')"
   ]
  },
  {
   "cell_type": "code",
   "execution_count": 36,
   "metadata": {
    "collapsed": false
   },
   "outputs": [
    {
     "name": "stdout",
     "output_type": "stream",
     "text": [
      "0.0\n",
      "0.0\n"
     ]
    }
   ],
   "source": [
    "# Find the median\n",
    "print norm_dist.median()\n",
    "\n",
    "# Or find median using ppf\n",
    "print norm_dist.ppf(0.5)"
   ]
  },
  {
   "cell_type": "code",
   "execution_count": 37,
   "metadata": {
    "collapsed": false
   },
   "outputs": [
    {
     "name": "stdout",
     "output_type": "stream",
     "text": [
      "-1.95996398454 1.95996398454\n"
     ]
    }
   ],
   "source": [
    "# ppf is used to find z-score\n",
    "print norm_dist.ppf(0.025), norm_dist.ppf(0.975)"
   ]
  },
  {
   "cell_type": "code",
   "execution_count": 38,
   "metadata": {
    "collapsed": false
   },
   "outputs": [
    {
     "data": {
      "text/plain": [
       "array([ 0.84825318,  0.50763335, -2.18693409])"
      ]
     },
     "execution_count": 38,
     "metadata": {},
     "output_type": "execute_result"
    }
   ],
   "source": [
    "# Generate random variables\n",
    "norm_dist.rvs(size=3)"
   ]
  },
  {
   "cell_type": "code",
   "execution_count": 39,
   "metadata": {
    "collapsed": false,
    "scrolled": true
   },
   "outputs": [
    {
     "data": {
      "text/plain": [
       "array([ 0.47143516, -1.19097569,  1.43270697, -0.3126519 , -0.72058873])"
      ]
     },
     "execution_count": 39,
     "metadata": {},
     "output_type": "execute_result"
    }
   ],
   "source": [
    "# To generate reproducible rv, use seed\n",
    "norm_dist.rvs(size=5, random_state=1234)"
   ]
  },
  {
   "cell_type": "markdown",
   "metadata": {},
   "source": [
    "### Shifting and Scaling"
   ]
  },
  {
   "cell_type": "code",
   "execution_count": 40,
   "metadata": {
    "collapsed": false
   },
   "outputs": [
    {
     "name": "stdout",
     "output_type": "stream",
     "text": [
      "(array(3.0), array(4.0))\n"
     ]
    }
   ],
   "source": [
    "# To generate normal distribution with mean=3, std=2\n",
    "new_norm_dist = scs.norm(loc=3, scale=2)\n",
    "print new_norm_dist.stats(moments='mv')"
   ]
  },
  {
   "cell_type": "code",
   "execution_count": 41,
   "metadata": {
    "collapsed": false
   },
   "outputs": [
    {
     "name": "stdout",
     "output_type": "stream",
     "text": [
      "3.0 4.0 3.0\n",
      "-0.91992796908\n",
      "-1.95996398454\n"
     ]
    }
   ],
   "source": [
    "# Trying out the similar methods\n",
    "print new_norm_dist.mean(), new_norm_dist.var(), new_norm_dist.median()\n",
    "\n",
    "print new_norm_dist.ppf(0.025) # this doesn't scale z-score, instead use:\n",
    "print (new_norm_dist.ppf(0.025)-new_norm_dist.mean())/new_norm_dist.std()\n"
   ]
  },
  {
   "cell_type": "code",
   "execution_count": 42,
   "metadata": {
    "collapsed": false
   },
   "outputs": [
    {
     "name": "stdout",
     "output_type": "stream",
     "text": [
      "0.0\n",
      "0.0\n"
     ]
    }
   ],
   "source": [
    "# 2 ways to find mean\n",
    "print norm_dist.mean()\n",
    "print norm_dist.stats(moments='m')"
   ]
  },
  {
   "cell_type": "code",
   "execution_count": 45,
   "metadata": {
    "collapsed": false,
    "scrolled": false
   },
   "outputs": [
    {
     "data": {
      "text/plain": [
       "[<matplotlib.lines.Line2D at 0x8da01d0>]"
      ]
     },
     "execution_count": 45,
     "metadata": {},
     "output_type": "execute_result"
    },
    {
     "data": {
      "image/png": "[encoded data removed]",
      "text/plain": [
       "<matplotlib.figure.Figure at 0x78f6c70>"
      ]
     },
     "metadata": {},
     "output_type": "display_data"
    }
   ],
   "source": [
    "# Generate some data (mean=10, var=2.5)\n",
    "n_data = scs.norm.rvs(10, 2.5, size=500)\n",
    "\n",
    "# Plot data histogram and normalize it\n",
    "plt.hist(n_data, normed=True)\n",
    "\n",
    "# Get the mean and std from the generatd data\n",
    "mu = n_data.mean()\n",
    "std = n_data.std()\n",
    "\n",
    "# Plot the PDF (using sample mean and std)\n",
    "x = np.linspace(data.min(), data.max(), 100)\n",
    "p = scs.norm.pdf(x, mu, std)\n",
    "plt.plot(x, p)"
   ]
  },
  {
   "cell_type": "code",
   "execution_count": 46,
   "metadata": {
    "collapsed": false
   },
   "outputs": [
    {
     "name": "stdout",
     "output_type": "stream",
     "text": [
      "10.1416138613 2.4679141426\n"
     ]
    }
   ],
   "source": [
    "# Fit the data to a normal distribution\n",
    "mu, std = scs.norm.fit(data)\n",
    "print mu, std"
   ]
  },
  {
   "cell_type": "markdown",
   "metadata": {},
   "source": [
    "Note: We can also generate normal distribution sample directly using NumPy"
   ]
  },
  {
   "cell_type": "code",
   "execution_count": 47,
   "metadata": {
    "collapsed": false
   },
   "outputs": [
    {
     "data": {
      "text/plain": [
       "[<matplotlib.lines.Line2D at 0x8e9b830>]"
      ]
     },
     "execution_count": 47,
     "metadata": {},
     "output_type": "execute_result"
    },
    {
     "data": {
      "image/png": "[encoded data removed]",
      "text/plain": [
       "<matplotlib.figure.Figure at 0x7c43270>"
      ]
     },
     "metadata": {},
     "output_type": "display_data"
    }
   ],
   "source": [
    "# We can generate random normal sample from NumPy\n",
    "np_data = np.random.normal(loc=10, scale=2, size =500)\n",
    "\n",
    "# Histogram of data\n",
    "plt.hist(np_data, normed=True)\n",
    "\n",
    "# Plot PDF\n",
    "x = np.linspace(np_data.min(), np_data.max(),100)\n",
    "p = scs.norm.pdf(x, np_data.mean(), np_data.std())\n",
    "plt.plot(x, p)"
   ]
  },
  {
   "cell_type": "markdown",
   "metadata": {},
   "source": [
    "# Poisson Distribution\n",
    "Poisson distributions takes 1 parameter using lambda (SciPy calls it mu). Random variable: x (number of times an event occurs)\n",
    "\n",
    "$$P(X=k)=\\frac{\\lambda^xexp(-\\lambda)}{k!}$$"
   ]
  },
  {
   "cell_type": "code",
   "execution_count": 48,
   "metadata": {
    "collapsed": false
   },
   "outputs": [],
   "source": [
    "def plot_poisson(mu):\n",
    "    k = np.arange(scs.poisson.ppf(0.01, mu), scs.poisson.ppf(0.99, mu), 0.01)\n",
    "    p = scs.poisson.pmf(k, mu)\n",
    "    plt.plot(k, p, linewidth=2)"
   ]
  },
  {
   "cell_type": "code",
   "execution_count": 49,
   "metadata": {
    "collapsed": false,
    "scrolled": true
   },
   "outputs": [
    {
     "data": {
      "image/png": "[encoded data removed]",
      "text/plain": [
       "<matplotlib.figure.Figure at 0x77b39d0>"
      ]
     },
     "metadata": {},
     "output_type": "display_data"
    }
   ],
   "source": [
    "plot_poisson(1)"
   ]
  },
  {
   "cell_type": "code",
   "execution_count": 50,
   "metadata": {
    "collapsed": false
   },
   "outputs": [
    {
     "data": {
      "image/png": "[encoded data removed]",
      "text/plain": [
       "<matplotlib.figure.Figure at 0x7a1fc50>"
      ]
     },
     "metadata": {},
     "output_type": "display_data"
    }
   ],
   "source": [
    "plot_poisson(2)"
   ]
  },
  {
   "cell_type": "code",
   "execution_count": 51,
   "metadata": {
    "collapsed": false
   },
   "outputs": [
    {
     "data": {
      "image/png": "[encoded data removed]",
      "text/plain": [
       "<matplotlib.figure.Figure at 0x755e1f0>"
      ]
     },
     "metadata": {},
     "output_type": "display_data"
    }
   ],
   "source": [
    "plot_poisson(3)"
   ]
  },
  {
   "cell_type": "code",
   "execution_count": 52,
   "metadata": {
    "collapsed": false,
    "scrolled": true
   },
   "outputs": [
    {
     "data": {
      "image/png": "[encoded data removed]",
      "text/plain": [
       "<matplotlib.figure.Figure at 0x8f942f0>"
      ]
     },
     "metadata": {},
     "output_type": "display_data"
    }
   ],
   "source": [
    "# Generate poisson sample data\n",
    "data = scs.poisson.rvs(mu = 2, size=500)\n",
    "\n",
    "# Histogram of sample data\n",
    "plt.hist(data, normed=True)\n",
    "\n",
    "# Plot Poisson PMF for lambda(mu) = 2\n",
    "plot_poisson(2)"
   ]
  },
  {
   "cell_type": "markdown",
   "metadata": {},
   "source": [
    "# Binomial Distribution\n",
    "Bionimal distribution takes 3 parameters n and p. Random variable: x (number of successes in n trials)\n",
    "$$P = \\binom{n}{x}p^x(1-p)^{n-x} $$"
   ]
  },
  {
   "cell_type": "code",
   "execution_count": 53,
   "metadata": {
    "collapsed": false,
    "scrolled": false
   },
   "outputs": [
    {
     "data": {
      "text/plain": [
       "[<matplotlib.lines.Line2D at 0x92fb630>]"
      ]
     },
     "execution_count": 53,
     "metadata": {},
     "output_type": "execute_result"
    },
    {
     "data": {
      "image/png": "[encoded data removed]",
      "text/plain": [
       "<matplotlib.figure.Figure at 0x8f5ae50>"
      ]
     },
     "metadata": {},
     "output_type": "display_data"
    }
   ],
   "source": [
    "# Generate sample for binomial distribution\n",
    "bn_data = scs.binom.rvs(n=10, p=0.5, size=1000)\n",
    "\n",
    "# Histogram of data\n",
    "plt.hist(bn_data, bins=10, normed=True)\n",
    "\n",
    "# Plot PMF of binomial distribution\n",
    "x = np.arange(1,11)\n",
    "p = scs.binom.pmf(x, n=10, p=0.5)\n",
    "plt.plot(x, p, linewidth=2)"
   ]
  },
  {
   "cell_type": "code",
   "execution_count": 54,
   "metadata": {
    "collapsed": false
   },
   "outputs": [
    {
     "name": "stdout",
     "output_type": "stream",
     "text": [
      "5.0 2.5 0.0 -0.2\n",
      "4.974 2.365324 1.5379609878\n"
     ]
    }
   ],
   "source": [
    "# Get moments from binomial distribution\n",
    "mean, var, skew, kurt = scs.binom.stats(n=10, p=0.5, moments='mvsk')\n",
    "print mean, var, skew, kurt\n",
    "\n",
    "# Get moments from sample\n",
    "print bn_data.mean(), bn_data.var(), bn_data.std()"
   ]
  },
  {
   "cell_type": "markdown",
   "metadata": {},
   "source": [
    "# Gamma Distribution\n",
    "$$P(X=x) = \\cfrac{x^{a-1}e^{-x}}{\\Gamma(a)}$$\n",
    "\n",
    "Takes 2 parameters\n",
    "- $\\alpha$ and $\\beta$, or\n",
    "- $k$ and $\\theta$ ($k=\\alpha$ and $\\theta=\\cfrac{1}{\\beta}$)\n",
    "\n",
    "$Mean = \\cfrac{\\hat{\\alpha}}{\\hat{\\beta}}$\n",
    "where $\\alpha =\\cfrac{\\bar{x}^2}{s^2}$ and $\\beta = \\cfrac{\\bar{x}}{s^2}$\n",
    "\n",
    "In SciPy, we use $k = a$, $\\theta = 1$"
   ]
  },
  {
   "cell_type": "code",
   "execution_count": 55,
   "metadata": {
    "collapsed": false,
    "scrolled": true
   },
   "outputs": [
    {
     "data": {
      "text/plain": [
       "[<matplotlib.lines.Line2D at 0x93e7fb0>]"
      ]
     },
     "execution_count": 55,
     "metadata": {},
     "output_type": "execute_result"
    },
    {
     "data": {
      "image/png": "[encoded data removed]",
      "text/plain": [
       "<matplotlib.figure.Figure at 0x9324950>"
      ]
     },
     "metadata": {},
     "output_type": "display_data"
    }
   ],
   "source": [
    "# Generate a sample of gamma distribution\n",
    "g_data = scs.gamma.rvs(a=1.99, size=1000)\n",
    "\n",
    "# Histogram of data\n",
    "plt.hist(g_data, normed=True)\n",
    "\n",
    "# Plot gamma curve for data\n",
    "x = np.linspace(g_data.min(), g_data.max(),100)\n",
    "p = scs.gamma.pdf(x, a=2)\n",
    "plt.plot(x, p)"
   ]
  },
  {
   "cell_type": "code",
   "execution_count": 56,
   "metadata": {
    "collapsed": false
   },
   "outputs": [
    {
     "name": "stdout",
     "output_type": "stream",
     "text": [
      "(1.8743471400793208, -0.0012896559438358417, 1.0341149308838107)\n"
     ]
    }
   ],
   "source": [
    "# Fit data into gamma distribution. Returns shape, loc, scale\n",
    "print scs.gamma.fit(g_data)"
   ]
  },
  {
   "cell_type": "markdown",
   "metadata": {},
   "source": [
    "# Beta Distribution\n",
    "$$P(X=x) = \\cfrac{\\Gamma(a+b)x^{a-1}(1-x)^{b-1}}{\\Gamma(a) \\Gamma(b)}$$\n",
    "\n",
    "Takes 2 parameters $\\alpha$ and $\\beta$\n",
    "\n",
    "In Scipy:\n",
    "* $a = \\alpha$\n",
    "* $b = \\beta$ "
   ]
  },
  {
   "cell_type": "code",
   "execution_count": 57,
   "metadata": {
    "collapsed": false,
    "scrolled": true
   },
   "outputs": [
    {
     "data": {
      "text/plain": [
       "[<matplotlib.lines.Line2D at 0x95c94b0>]"
      ]
     },
     "execution_count": 57,
     "metadata": {},
     "output_type": "execute_result"
    },
    {
     "data": {
      "image/png": "[encoded data removed]",
      "text/plain": [
       "<matplotlib.figure.Figure at 0x936f230>"
      ]
     },
     "metadata": {},
     "output_type": "display_data"
    }
   ],
   "source": [
    "# Sampling from Beta Distribution\n",
    "beta_data = scs.beta.rvs(a=0.5, b=0.5, size=1000)\n",
    "\n",
    "# Histogram of data\n",
    "plt.hist(beta_data, normed=True)\n",
    "\n",
    "# Plot beta pdf. Note that the pdf curve goes to infinity, so the line below for x values will shoots up to infinity\n",
    "# x = np.linspace(beta_data.min(), beta_data.max(), 100)\n",
    "x = np.linspace(scs.beta(0.5,0.5).ppf(0.1), scs.beta(0.5,0.5).ppf(0.9), 100)\n",
    "p = scs.beta.pdf(x, a=0.5, b=0.5)\n",
    "plt.plot(x, p)\n"
   ]
  },
  {
   "cell_type": "code",
   "execution_count": 59,
   "metadata": {
    "collapsed": false,
    "scrolled": true
   },
   "outputs": [
    {
     "name": "stdout",
     "output_type": "stream",
     "text": [
      " (0.85382589755927862, 0.95336557086116369, 3.5282676259451282e-06, 1.0021192088147635)\n"
     ]
    }
   ],
   "source": [
    "# Fitting data (can also input wanted parameters). Returns a, b, ?, ?\n",
    "print scs.beta.fit(beta_data)"
   ]
  },
  {
   "cell_type": "markdown",
   "metadata": {},
   "source": [
    "# Bernoulli Distribution\n",
    "Discrete random variable, takes in 1 paramenter p."
   ]
  },
  {
   "cell_type": "code",
   "execution_count": 60,
   "metadata": {
    "collapsed": false
   },
   "outputs": [
    {
     "data": {
      "text/plain": [
       "[<matplotlib.lines.Line2D at 0x978c1b0>]"
      ]
     },
     "execution_count": 60,
     "metadata": {},
     "output_type": "execute_result"
    },
    {
     "data": {
      "image/png": "[encoded data removed]",
      "text/plain": [
       "<matplotlib.figure.Figure at 0x907d430>"
      ]
     },
     "metadata": {},
     "output_type": "display_data"
    }
   ],
   "source": [
    "# Sampling from Bernoulli distribution with p = 0.2. This data include only 0's and 1's\n",
    "ber_data = scs.bernoulli.rvs(p=0.2, size=1000)\n",
    "\n",
    "# Histogram of data\n",
    "plt.hist(ber_data, normed=True)\n",
    "\n",
    "# Plot theoretical Bernoulli for p=0.2\n",
    "x = [0,1]\n",
    "p = scs.bernoulli.pmf(x, p=0.2)\n",
    "plt.plot(x, p*10)"
   ]
  },
  {
   "cell_type": "markdown",
   "metadata": {},
   "source": [
    "# Geometric Distribution\n",
    "The geometric distribution models the number of trials that must be run in order to achieve success. Takes 1 parameter p.\n",
    "\n",
    "$$f(k)=(1-p)^{k-1}p$$\n"
   ]
  },
  {
   "cell_type": "code",
   "execution_count": 98,
   "metadata": {
    "collapsed": false,
    "scrolled": true
   },
   "outputs": [
    {
     "data": {
      "text/plain": [
       "[<matplotlib.lines.Line2D at 0xb5fca50>]"
      ]
     },
     "execution_count": 98,
     "metadata": {},
     "output_type": "execute_result"
    },
    {
     "data": {
      "image/png": "[encoded data removed]",
      "text/plain": [
       "<matplotlib.figure.Figure at 0xb4499f0>"
      ]
     },
     "metadata": {},
     "output_type": "display_data"
    }
   ],
   "source": [
    "# Sample a geometric distribution with p=0.2\n",
    "geo_data = scs.geom.rvs(p=0.2, size=1000)\n",
    "\n",
    "# Histogram of data\n",
    "plt.hist(geo_data, normed=True)\n",
    "\n",
    "# Plot the geometric curve\n",
    "x = np.arange(np.floor(geo_data.min()), np.floor(geo_data.max()))\n",
    "p = scs.geom.pmf(x, p=0.2)\n",
    "plt.plot(x, p)"
   ]
  },
  {
   "cell_type": "markdown",
   "metadata": {},
   "source": [
    "**Note**: when use PMF, only integer values get the probability values, so to graph the curve, use floor function to get down to integers (or cast with \"int\") and use arange. Linspace will give decimal numbers and will get probabily = 0.\n",
    "\n",
    "Geometric distribution doesn't have fit method ???"
   ]
  },
  {
   "cell_type": "markdown",
   "metadata": {},
   "source": [
    "# Uniform Distribution"
   ]
  },
  {
   "cell_type": "code",
   "execution_count": 63,
   "metadata": {
    "collapsed": false
   },
   "outputs": [
    {
     "data": {
      "text/plain": [
       "[<matplotlib.lines.Line2D at 0x97cf5f0>]"
      ]
     },
     "execution_count": 63,
     "metadata": {},
     "output_type": "execute_result"
    },
    {
     "data": {
      "image/png": "[encoded data removed]",
      "text/plain": [
       "<matplotlib.figure.Figure at 0x907d3f0>"
      ]
     },
     "metadata": {},
     "output_type": "display_data"
    }
   ],
   "source": [
    "u_data = scs.uniform.rvs(scale=10, size=1000)\n",
    "\n",
    "# Histogram of data\n",
    "plt.hist(u_data, normed=True)\n",
    "\n",
    "# Plot uniform\n",
    "x = np.arange(0,11)\n",
    "p = scs.uniform.pdf(x, scale=10)\n",
    "plt.plot(x, p)"
   ]
  },
  {
   "cell_type": "code",
   "execution_count": 64,
   "metadata": {
    "collapsed": false
   },
   "outputs": [
    {
     "data": {
      "text/plain": [
       "(9.7439371979977582e-05, 9.9884425597874849)"
      ]
     },
     "execution_count": 64,
     "metadata": {},
     "output_type": "execute_result"
    }
   ],
   "source": [
    "# Fit data to uniform distribution (returns: min, max?)\n",
    "scs.uniform.fit(u_data)"
   ]
  }
 ],
 "metadata": {
  "anaconda-cloud": {},
  "kernelspec": {
   "display_name": "Python 2",
   "language": "python",
   "name": "python2"
  },
  "language_info": {
   "codemirror_mode": {
    "name": "ipython",
    "version": 2
   },
   "file_extension": ".py",
   "mimetype": "text/x-python",
   "name": "python",
   "nbconvert_exporter": "python",
   "pygments_lexer": "ipython2",
   "version": "2.7.13"
  }
 },
 "nbformat": 4,
 "nbformat_minor": 1
}
