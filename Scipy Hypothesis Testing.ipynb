{
 "cells": [
  {
   "cell_type": "code",
   "execution_count": 1,
   "metadata": {
    "collapsed": true
   },
   "outputs": [],
   "source": [
    "import numpy as np\n",
    "import scipy.stats as scs\n",
    "import matplotlib.pyplot as plt\n",
    "%matplotlib inline"
   ]
  },
  {
   "cell_type": "markdown",
   "metadata": {},
   "source": [
    "**Note:** \n",
    "- The tests give p-value (be careful of scientific notation), we can compare it with our alpha of choice to decide whether to accept or reject the null hypothesis.\n",
    "- This test underestimates differences in variance, only cares about the mean value.\n",
    "- For 3 or more samples, use ANOVA"
   ]
  },
  {
   "cell_type": "markdown",
   "metadata": {},
   "source": [
    "# 1-Sample Mean\n",
    "Testing if the mean of a sample is not different from a hypothetical value"
   ]
  },
  {
   "cell_type": "code",
   "execution_count": 2,
   "metadata": {
    "collapsed": false
   },
   "outputs": [
    {
     "name": "stdout",
     "output_type": "stream",
     "text": [
      "0.473033387206\n"
     ]
    },
    {
     "data": {
      "text/plain": [
       "Ttest_1sampResult(statistic=-0.91144675637238104, pvalue=0.36427404587587053)"
      ]
     },
     "execution_count": 2,
     "metadata": {},
     "output_type": "execute_result"
    }
   ],
   "source": [
    "# Generate a sample\n",
    "x = np.random.random_sample(size=100)\n",
    "\n",
    "# Test if the mean of the sample is 0.5\n",
    "print x.mean()\n",
    "scs.ttest_1samp(x, 0.5)"
   ]
  },
  {
   "cell_type": "code",
   "execution_count": 3,
   "metadata": {
    "collapsed": false
   },
   "outputs": [
    {
     "data": {
      "text/plain": [
       "(array([ 12.,   8.,  15.,  13.,   9.,   6.,  10.,   6.,  11.,  10.]),\n",
       " array([ 0.00114139,  0.10057297,  0.20000454,  0.29943611,  0.39886769,\n",
       "         0.49829926,  0.59773083,  0.69716241,  0.79659398,  0.89602555,\n",
       "         0.99545713]),\n",
       " <a list of 10 Patch objects>)"
      ]
     },
     "execution_count": 3,
     "metadata": {},
     "output_type": "execute_result"
    },
    {
     "data": {
      "image/png": "[encoded data removed]",
      "text/plain": [
       "<matplotlib.figure.Figure at 0x2c60df0>"
      ]
     },
     "metadata": {},
     "output_type": "display_data"
    }
   ],
   "source": [
    "plt.hist(x)"
   ]
  },
  {
   "cell_type": "markdown",
   "metadata": {},
   "source": [
    "# 1-Sample Proportion\n",
    "This applies when we have a Bernoulli distribution"
   ]
  },
  {
   "cell_type": "code",
   "execution_count": 8,
   "metadata": {
    "collapsed": false
   },
   "outputs": [
    {
     "name": "stdout",
     "output_type": "stream",
     "text": [
      "Ttest_1sampResult(statistic=0.21855858972563169, pvalue=0.82741023156164006)\n",
      "p-value large, accept null\n"
     ]
    },
    {
     "data": {
      "text/plain": [
       "(array([ 80.,   0.,   0.,   0.,   0.,   0.,   0.,   0.,   0.,  28.]),\n",
       " array([ 0. ,  0.1,  0.2,  0.3,  0.4,  0.5,  0.6,  0.7,  0.8,  0.9,  1. ]),\n",
       " <a list of 10 Patch objects>)"
      ]
     },
     "execution_count": 8,
     "metadata": {},
     "output_type": "execute_result"
    },
    {
     "data": {
      "image/png": "[encoded data removed]",
      "text/plain": [
       "<matplotlib.figure.Figure at 0x68bc950>"
      ]
     },
     "metadata": {},
     "output_type": "display_data"
    }
   ],
   "source": [
    "# Generate a Bernoulli distribution\n",
    "x = [item for sublist in [[0]*80 + [1]*28] for item in sublist]\n",
    "\n",
    "# Testing if the proportion is 0.25\n",
    "print str(scs.ttest_1samp(x, 0.25))\n",
    "print 'p-value large, accept null'\n",
    "\n",
    "plt.hist(x)"
   ]
  },
  {
   "cell_type": "code",
   "execution_count": 9,
   "metadata": {
    "collapsed": false
   },
   "outputs": [
    {
     "name": "stdout",
     "output_type": "stream",
     "text": [
      "Ttest_1sampResult(statistic=2.466290592309488, pvalue=0.015210081667458115)\n",
      "p-value small reject null\n"
     ]
    },
    {
     "data": {
      "text/plain": [
       "(array([ 70.,   0.,   0.,   0.,   0.,   0.,   0.,   0.,   0.,  40.]),\n",
       " array([ 0. ,  0.1,  0.2,  0.3,  0.4,  0.5,  0.6,  0.7,  0.8,  0.9,  1. ]),\n",
       " <a list of 10 Patch objects>)"
      ]
     },
     "execution_count": 9,
     "metadata": {},
     "output_type": "execute_result"
    },
    {
     "data": {
      "image/png": "[encoded data removed]",
      "text/plain": [
       "<matplotlib.figure.Figure at 0x6a47070>"
      ]
     },
     "metadata": {},
     "output_type": "display_data"
    }
   ],
   "source": [
    "# Another test\n",
    "x = [item for sublist in [[0]*70 + [1]*40] for item in sublist]\n",
    "print str(scs.ttest_1samp(x, 0.25))\n",
    "print 'p-value small reject null'\n",
    "\n",
    "plt.hist(x)"
   ]
  },
  {
   "cell_type": "code",
   "execution_count": null,
   "metadata": {
    "collapsed": true
   },
   "outputs": [],
   "source": [
    "plt.hist()"
   ]
  },
  {
   "cell_type": "markdown",
   "metadata": {},
   "source": [
    "# 2-Sample Means\n",
    "Compare to see if the means of 2 samples are not different, i.e., whether 2 samples are from the same population"
   ]
  },
  {
   "cell_type": "code",
   "execution_count": 10,
   "metadata": {
    "collapsed": false,
    "scrolled": true
   },
   "outputs": [
    {
     "name": "stdout",
     "output_type": "stream",
     "text": [
      "0.479361382582 0.513548414066\n",
      "Ttest_indResult(statistic=-1.8667245959235053, pvalue=0.062233120450052727)\n",
      "p-value large, accept null\n"
     ]
    },
    {
     "data": {
      "text/plain": [
       "(array([ 48.,  45.,  47.,  50.,  34.,  58.,  63.,  60.,  48.,  47.]),\n",
       " array([ 0.0028386 ,  0.10253566,  0.20223273,  0.3019298 ,  0.40162687,\n",
       "         0.50132394,  0.60102101,  0.70071808,  0.80041515,  0.90011222,\n",
       "         0.99980929]),\n",
       " <a list of 10 Patch objects>)"
      ]
     },
     "execution_count": 10,
     "metadata": {},
     "output_type": "execute_result"
    },
    {
     "data": {
      "image/png": "[encoded data removed]",
      "text/plain": [
       "<matplotlib.figure.Figure at 0x6a52c50>"
      ]
     },
     "metadata": {},
     "output_type": "display_data"
    }
   ],
   "source": [
    "# Generate 2 samples with similar means\n",
    "x1 = np.random.random_sample(size=500)\n",
    "x2 = np.random.random_sample(size=500)\n",
    "print x1.mean(), x2.mean()\n",
    "print scs.ttest_ind(x1, x2)\n",
    "print 'p-value large, accept null'\n",
    "\n",
    "plt.hist(x1)\n",
    "plt.hist(x2)"
   ]
  },
  {
   "cell_type": "code",
   "execution_count": null,
   "metadata": {
    "collapsed": true
   },
   "outputs": [],
   "source": [
    "# Generate 2 samples with different means\n",
    "y1 = np.random.random_sample(size=100)*2\n",
    "y2 = np.random.random_sample(size=100)\n",
    "print y1.mean(), y2.mean()\n",
    "print scs.ttest_ind(y1, y2)\n",
    "print 'p-value small, reject null'"
   ]
  },
  {
   "cell_type": "markdown",
   "metadata": {},
   "source": [
    "# 2-Sample Proportions"
   ]
  },
  {
   "cell_type": "code",
   "execution_count": 13,
   "metadata": {
    "collapsed": false
   },
   "outputs": [
    {
     "name": "stdout",
     "output_type": "stream",
     "text": [
      "Ttest_indResult(statistic=-0.78907636476703791, pvalue=0.43101120573602236)\n",
      "p-value large, accept null\n"
     ]
    },
    {
     "data": {
      "text/plain": [
       "(array([ 25.,   0.,   0.,   0.,   0.,   0.,   0.,   0.,   0.,  75.]),\n",
       " array([ 0. ,  0.1,  0.2,  0.3,  0.4,  0.5,  0.6,  0.7,  0.8,  0.9,  1. ]),\n",
       " <a list of 10 Patch objects>)"
      ]
     },
     "execution_count": 13,
     "metadata": {},
     "output_type": "execute_result"
    },
    {
     "data": {
      "image/png": "[encoded data removed]",
      "text/plain": [
       "<matplotlib.figure.Figure at 0x7a8df50>"
      ]
     },
     "metadata": {},
     "output_type": "display_data"
    }
   ],
   "source": [
    "# Generate Bernoulli distributions with similar proportions\n",
    "z1 = [item for sublist in [[0]*30 + [1]*70] for item in sublist]\n",
    "z2 = [item for sublist in [[0]*25 + [1]*75] for item in sublist]\n",
    "print scs.ttest_ind(z1, z2)\n",
    "print 'p-value large, accept null'\n",
    "\n",
    "plt.hist(z1)\n",
    "plt.hist(z2)"
   ]
  },
  {
   "cell_type": "code",
   "execution_count": 15,
   "metadata": {
    "collapsed": false
   },
   "outputs": [
    {
     "name": "stdout",
     "output_type": "stream",
     "text": [
      "Ttest_indResult(statistic=-2.0181082671329791, pvalue=0.04486433017706145)\n",
      "p-value large, accept null\n"
     ]
    },
    {
     "data": {
      "text/plain": [
       "(array([ 20.,   0.,   0.,   0.,   0.,   0.,   0.,   0.,   0.,  90.]),\n",
       " array([ 0. ,  0.1,  0.2,  0.3,  0.4,  0.5,  0.6,  0.7,  0.8,  0.9,  1. ]),\n",
       " <a list of 10 Patch objects>)"
      ]
     },
     "execution_count": 15,
     "metadata": {},
     "output_type": "execute_result"
    },
    {
     "data": {
      "image/png": "[encoded data removed]",
      "text/plain": [
       "<matplotlib.figure.Figure at 0x7a06cd0>"
      ]
     },
     "metadata": {},
     "output_type": "display_data"
    }
   ],
   "source": [
    "# Generate Bernoulli distributions with different proportions\n",
    "z1 = [item for sublist in [[0]*30 + [1]*70] for item in sublist]\n",
    "z2 = [item for sublist in [[0]*20 + [1]*90] for item in sublist]\n",
    "print scs.ttest_ind(z1, z2)\n",
    "print 'p-value large, accept null'\n",
    "\n",
    "plt.hist(z1)\n",
    "plt.hist(z2)"
   ]
  },
  {
   "cell_type": "markdown",
   "metadata": {},
   "source": [
    "# ANOVA f-test"
   ]
  },
  {
   "cell_type": "code",
   "execution_count": 16,
   "metadata": {
    "collapsed": false
   },
   "outputs": [
    {
     "name": "stdout",
     "output_type": "stream",
     "text": [
      "0.493180935423 0.503725658696 0.495471423508\n",
      "F_onewayResult(statistic=0.1759294201100666, pvalue=0.83869451248832927)\n",
      "p-value large, accept null\n"
     ]
    },
    {
     "data": {
      "text/plain": [
       "(array([ 62.,  57.,  38.,  40.,  56.,  42.,  48.,  58.,  51.,  48.]),\n",
       " array([ 0.00103276,  0.10077318,  0.2005136 ,  0.30025402,  0.39999444,\n",
       "         0.49973486,  0.59947528,  0.6992157 ,  0.79895612,  0.89869654,\n",
       "         0.99843696]),\n",
       " <a list of 10 Patch objects>)"
      ]
     },
     "execution_count": 16,
     "metadata": {},
     "output_type": "execute_result"
    },
    {
     "data": {
      "image/png": "[encoded data removed]",
      "text/plain": [
       "<matplotlib.figure.Figure at 0x7aa1350>"
      ]
     },
     "metadata": {},
     "output_type": "display_data"
    }
   ],
   "source": [
    "# Generate 3 samples with similar means\n",
    "a1 = np.random.random_sample(size=500)\n",
    "a2 = np.random.random_sample(size=500)\n",
    "a3 = np.random.random_sample(size=500)\n",
    "print a1.mean(), a2.mean(), a3.mean()\n",
    "print scs.f_oneway(a1, a2, a3)\n",
    "print 'p-value large, accept null'\n",
    "\n",
    "plt.hist(a1)\n",
    "plt.hist(a2)\n",
    "plt.hist(a3)"
   ]
  },
  {
   "cell_type": "code",
   "execution_count": 17,
   "metadata": {
    "collapsed": false
   },
   "outputs": [
    {
     "name": "stdout",
     "output_type": "stream",
     "text": [
      "0.477684658398 0.65429159519 0.490360409104\n",
      "F_onewayResult(statistic=48.466786873306269, pvalue=4.0230833816352596e-21)\n",
      "p-value large, accept null\n"
     ]
    },
    {
     "data": {
      "text/plain": [
       "(array([ 47.,  61.,  39.,  55.,  53.,  54.,  42.,  58.,  54.,  37.]),\n",
       " array([ 0.00270891,  0.10200584,  0.20130278,  0.30059971,  0.39989664,\n",
       "         0.49919358,  0.59849051,  0.69778744,  0.79708438,  0.89638131,\n",
       "         0.99567824]),\n",
       " <a list of 10 Patch objects>)"
      ]
     },
     "execution_count": 17,
     "metadata": {},
     "output_type": "execute_result"
    },
    {
     "data": {
      "image/png": "[encoded data removed]",
      "text/plain": [
       "<matplotlib.figure.Figure at 0x7aa1370>"
      ]
     },
     "metadata": {},
     "output_type": "display_data"
    }
   ],
   "source": [
    "# Generate 3 samples with different means\n",
    "b1 = np.random.random_sample(size=500)\n",
    "b2 = np.random.random_sample(size=500)*1.3\n",
    "b3 = np.random.random_sample(size=500)\n",
    "print b1.mean(), b2.mean(), b3.mean()\n",
    "print scs.f_oneway(b1, b2, b3)\n",
    "print 'p-value large, accept null'\n",
    "\n",
    "plt.hist(b1)\n",
    "plt.hist(b2)\n",
    "plt.hist(b3)"
   ]
  },
  {
   "cell_type": "code",
   "execution_count": null,
   "metadata": {
    "collapsed": true
   },
   "outputs": [],
   "source": []
  }
 ],
 "metadata": {
  "kernelspec": {
   "display_name": "Python 2",
   "language": "python",
   "name": "python2"
  },
  "language_info": {
   "codemirror_mode": {
    "name": "ipython",
    "version": 2
   },
   "file_extension": ".py",
   "mimetype": "text/x-python",
   "name": "python",
   "nbconvert_exporter": "python",
   "pygments_lexer": "ipython2",
   "version": "2.7.13"
  }
 },
 "nbformat": 4,
 "nbformat_minor": 2
}
